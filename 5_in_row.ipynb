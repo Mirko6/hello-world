{
  "nbformat": 4,
  "nbformat_minor": 0,
  "metadata": {
    "colab": {
      "name": "5-in-row.ipynb",
      "provenance": [],
      "include_colab_link": true
    },
    "kernelspec": {
      "name": "python3",
      "display_name": "Python 3"
    }
  },
  "cells": [
    {
      "cell_type": "markdown",
      "metadata": {
        "id": "view-in-github",
        "colab_type": "text"
      },
      "source": [
        "<a href=\"https://colab.research.google.com/github/Mirko6/hello-world/blob/miro/5_in_row.ipynb\" target=\"_parent\"><img src=\"https://colab.research.google.com/assets/colab-badge.svg\" alt=\"Open In Colab\"/></a>"
      ]
    },
    {
      "cell_type": "markdown",
      "metadata": {
        "id": "qSeZ3vX2EwPq",
        "colab_type": "text"
      },
      "source": [
        "Dole pise Samo\n"
      ]
    },
    {
      "cell_type": "code",
      "metadata": {
        "id": "enMN4gq1Es1z",
        "colab_type": "code",
        "colab": {}
      },
      "source": [
        "print('easy')"
      ],
      "execution_count": 0,
      "outputs": []
    },
    {
      "cell_type": "markdown",
      "metadata": {
        "id": "4DVYnzMIE3FM",
        "colab_type": "text"
      },
      "source": [
        "Dole pise Miro"
      ]
    },
    {
      "cell_type": "code",
      "metadata": {
        "id": "Tc6GUtS4E2v3",
        "colab_type": "code",
        "colab": {}
      },
      "source": [
        "for i in range(5):\n",
        "  print(\"daco som comitol\")\n",
        "\n",
        "int a = 15"
      ],
      "execution_count": 0,
      "outputs": []
    },
    {
      "cell_type": "markdown",
      "metadata": {
        "id": "0yN6IVc9E50Z",
        "colab_type": "text"
      },
      "source": [
        "Dole pise Mato"
      ]
    },
    {
      "cell_type": "code",
      "metadata": {
        "id": "XErNIG7AE5VZ",
        "colab_type": "code",
        "colab": {}
      },
      "source": [
        "Run R"
      ],
      "execution_count": 0,
      "outputs": []
    }
  ]
}