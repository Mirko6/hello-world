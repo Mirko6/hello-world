{
  "nbformat": 4,
  "nbformat_minor": 0,
  "metadata": {
    "colab": {
      "name": "5-in-row.ipynb",
      "provenance": [],
      "include_colab_link": true
    },
    "kernelspec": {
      "name": "python3",
      "display_name": "Python 3"
    }
  },
  "cells": [
    {
      "cell_type": "markdown",
      "metadata": {
        "id": "view-in-github",
        "colab_type": "text"
      },
      "source": [
        "<a href=\"https://colab.research.google.com/github/Mirko6/hello-world/blob/mato/5_in_row.ipynb\" target=\"_parent\"><img src=\"https://colab.research.google.com/assets/colab-badge.svg\" alt=\"Open In Colab\"/></a>"
      ]
    },
    {
      "cell_type": "markdown",
      "metadata": {
        "id": "qSeZ3vX2EwPq",
        "colab_type": "text"
      },
      "source": [
        "Dole pise Samo\n"
      ]
    },
    {
      "cell_type": "code",
      "metadata": {
        "id": "enMN4gq1Es1z",
        "colab_type": "code",
        "colab": {
          "base_uri": "https://localhost:8080/",
          "height": 35
        },
        "outputId": "f6689d25-dad8-4538-c04b-473058062e5b"
      },
      "source": [
        "print('easy')"
      ],
      "execution_count": 4,
      "outputs": [
        {
          "output_type": "stream",
          "text": [
            "easy\n"
          ],
          "name": "stdout"
        }
      ]
    },
    {
      "cell_type": "markdown",
      "metadata": {
        "id": "4DVYnzMIE3FM",
        "colab_type": "text"
      },
      "source": [
        "Dole pise Miro"
      ]
    },
    {
      "cell_type": "code",
      "metadata": {
        "id": "Tc6GUtS4E2v3",
        "colab_type": "code",
        "colab": {
          "base_uri": "https://localhost:8080/",
          "height": 104
        },
        "outputId": "ad33ff29-d892-43a0-ff59-a9abf8698370"
      },
      "source": [
        "for i in range(5):\n",
        "  print(\"daco som comitol\")\n",
        "\n",
        "a = 15"
      ],
      "execution_count": 3,
      "outputs": [
        {
          "output_type": "stream",
          "text": [
            "daco som comitol\n",
            "daco som comitol\n",
            "daco som comitol\n",
            "daco som comitol\n",
            "daco som comitol\n"
          ],
          "name": "stdout"
        }
      ]
    },
    {
      "cell_type": "markdown",
      "metadata": {
        "id": "0yN6IVc9E50Z",
        "colab_type": "text"
      },
      "source": [
        "Dole pise Mato"
      ]
    },
    {
      "cell_type": "code",
      "metadata": {
        "id": "XErNIG7AE5VZ",
        "colab_type": "code",
        "colab": {
          "base_uri": "https://localhost:8080/",
          "height": 364
        },
        "outputId": "44ea0456-6614-446a-ab94-64c01e3a57d8"
      },
      "source": [
        "print(\"g\")\n",
        "for i in range(19):\n",
        "  print(i/3)"
      ],
      "execution_count": 8,
      "outputs": [
        {
          "output_type": "stream",
          "text": [
            "g\n",
            "0.0\n",
            "0.3333333333333333\n",
            "0.6666666666666666\n",
            "1.0\n",
            "1.3333333333333333\n",
            "1.6666666666666667\n",
            "2.0\n",
            "2.3333333333333335\n",
            "2.6666666666666665\n",
            "3.0\n",
            "3.3333333333333335\n",
            "3.6666666666666665\n",
            "4.0\n",
            "4.333333333333333\n",
            "4.666666666666667\n",
            "5.0\n",
            "5.333333333333333\n",
            "5.666666666666667\n",
            "6.0\n"
          ],
          "name": "stdout"
        }
      ]
    }
  ]
}